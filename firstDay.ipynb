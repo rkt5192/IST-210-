{
  "nbformat": 4,
  "nbformat_minor": 0,
  "metadata": {
    "colab": {
      "name": "Untitled",
      "provenance": [],
      "toc_visible": true,
      "authorship_tag": "ABX9TyPk6gSuQJiZ5MLBuUvnDJsQ",
      "include_colab_link": true
    },
    "kernelspec": {
      "name": "python3",
      "display_name": "Python 3"
    }
  },
  "cells": [
    {
      "cell_type": "markdown",
      "metadata": {
        "id": "view-in-github",
        "colab_type": "text"
      },
      "source": [
        "<a href=\"https://colab.research.google.com/github/rkt5192/IST-210-/blob/master/firstDay.ipynb\" target=\"_parent\"><img src=\"https://colab.research.google.com/assets/colab-badge.svg\" alt=\"Open In Colab\"/></a>"
      ]
    },
    {
      "cell_type": "code",
      "metadata": {
        "id": "Xh9-5ZQLzZve",
        "colab_type": "code",
        "outputId": "d9dbc49c-ec66-4285-fc58-21ad87a4ba62",
        "colab": {
          "base_uri": "https://localhost:8080/",
          "height": 34
        }
      },
      "source": [
        "2+2"
      ],
      "execution_count": 0,
      "outputs": [
        {
          "output_type": "execute_result",
          "data": {
            "text/plain": [
              "4"
            ]
          },
          "metadata": {
            "tags": []
          },
          "execution_count": 4
        }
      ]
    },
    {
      "cell_type": "markdown",
      "metadata": {
        "id": "Djd7QCA60AiG",
        "colab_type": "text"
      },
      "source": [
        "This is my first notebook!\n"
      ]
    },
    {
      "cell_type": "code",
      "metadata": {
        "id": "BVL7Iwu_zvP4",
        "colab_type": "code",
        "outputId": "afd3060f-0610-413e-a3d5-27e3845708d8",
        "colab": {
          "base_uri": "https://localhost:8080/",
          "height": 34
        }
      },
      "source": [
        "2+3"
      ],
      "execution_count": 0,
      "outputs": [
        {
          "output_type": "execute_result",
          "data": {
            "text/plain": [
              "5"
            ]
          },
          "metadata": {
            "tags": []
          },
          "execution_count": 6
        }
      ]
    },
    {
      "cell_type": "markdown",
      "metadata": {
        "id": "870v6kVi0WtN",
        "colab_type": "text"
      },
      "source": [
        "**This is bold**"
      ]
    },
    {
      "cell_type": "markdown",
      "metadata": {
        "id": "XdIsx52i0mMN",
        "colab_type": "text"
      },
      "source": [
        "### this is a header\n"
      ]
    },
    {
      "cell_type": "markdown",
      "metadata": {
        "id": "4l3EXkDH0zaV",
        "colab_type": "text"
      },
      "source": [
        "#### header\n"
      ]
    },
    {
      "cell_type": "markdown",
      "metadata": {
        "id": "3-aPIyJx4rKK",
        "colab_type": "text"
      },
      "source": [
        ""
      ]
    },
    {
      "cell_type": "markdown",
      "metadata": {
        "id": "mD95fE3L4f5C",
        "colab_type": "text"
      },
      "source": [
        "https://raw.githubusercontent.com/rkt5192/IST-210-/master/Introduction/bindi_drop_by_idunahayaphotography_d812xeg-pre.png\n",
        "\n"
      ]
    }
  ]
}