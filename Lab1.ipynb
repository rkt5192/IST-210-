{
  "nbformat": 4,
  "nbformat_minor": 0,
  "metadata": {
    "colab": {
      "name": "Lab1.ipynb",
      "provenance": [],
      "authorship_tag": "ABX9TyPYZJBFBE0FIoOp1Qq0qL4o",
      "include_colab_link": true
    },
    "kernelspec": {
      "name": "python3",
      "display_name": "Python 3"
    }
  },
  "cells": [
    {
      "cell_type": "markdown",
      "metadata": {
        "id": "view-in-github",
        "colab_type": "text"
      },
      "source": [
        "<a href=\"https://colab.research.google.com/github/rkt5192/IST-210-/blob/master/Lab1.ipynb\" target=\"_parent\"><img src=\"https://colab.research.google.com/assets/colab-badge.svg\" alt=\"Open In Colab\"/></a>"
      ]
    },
    {
      "cell_type": "code",
      "metadata": {
        "id": "BNP7R9-R9F4P",
        "colab_type": "code",
        "colab": {}
      },
      "source": [
        ""
      ],
      "execution_count": 0,
      "outputs": []
    },
    {
      "cell_type": "markdown",
      "metadata": {
        "id": "U7pMRP_19JDV",
        "colab_type": "text"
      },
      "source": [
        "### Rajiv Thummala"
      ]
    },
    {
      "cell_type": "markdown",
      "metadata": {
        "id": "4jCuIMhi9OSx",
        "colab_type": "text"
      },
      "source": [
        "### Cybersecurity Analytics and Operations"
      ]
    },
    {
      "cell_type": "markdown",
      "metadata": {
        "id": "l982FW5f9Vuy",
        "colab_type": "text"
      },
      "source": [
        "### Working for the NSA or another government related position\n"
      ]
    },
    {
      "cell_type": "markdown",
      "metadata": {
        "id": "dZEgkcCL9ewh",
        "colab_type": "text"
      },
      "source": [
        ""
      ]
    },
    {
      "cell_type": "markdown",
      "metadata": {
        "id": "xazAJwER9mcE",
        "colab_type": "text"
      },
      "source": [
        "![alt text](https://raw.githubusercontent.com/rkt5192/IST-210-/master/unnamed.jpg)"
      ]
    }
  ]
}